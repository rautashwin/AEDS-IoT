{
 "cells": [
  {
   "cell_type": "code",
   "execution_count": 43,
   "metadata": {},
   "outputs": [],
   "source": [
    "import pandas as pd\n",
    "import numpy as np\n",
    "import matplotlib.pyplot as plt\n",
    "from sklearn import datasets\n",
    "from sklearn.metrics import roc_curve,auc\n",
    "from scipy import interp\n",
    "from itertools import cycle\n",
    "import seaborn as sns\n",
    "%matplotlib inline"
   ]
  },
  {
   "cell_type": "code",
   "execution_count": 44,
   "metadata": {},
   "outputs": [],
   "source": [
    "df = pd.read_csv('g3.csv')"
   ]
  },
  {
   "cell_type": "code",
   "execution_count": 45,
   "metadata": {},
   "outputs": [
    {
     "data": {
      "text/html": [
       "<div>\n",
       "<style scoped>\n",
       "    .dataframe tbody tr th:only-of-type {\n",
       "        vertical-align: middle;\n",
       "    }\n",
       "\n",
       "    .dataframe tbody tr th {\n",
       "        vertical-align: top;\n",
       "    }\n",
       "\n",
       "    .dataframe thead th {\n",
       "        text-align: right;\n",
       "    }\n",
       "</style>\n",
       "<table border=\"1\" class=\"dataframe\">\n",
       "  <thead>\n",
       "    <tr style=\"text-align: right;\">\n",
       "      <th></th>\n",
       "      <th>Date</th>\n",
       "      <th>Frame No</th>\n",
       "      <th>BAT</th>\n",
       "      <th>COND</th>\n",
       "      <th>DO</th>\n",
       "      <th>ORP</th>\n",
       "      <th>PH</th>\n",
       "      <th>WT</th>\n",
       "      <th>Cluster</th>\n",
       "      <th>Unnamed: 9</th>\n",
       "      <th>ADD</th>\n",
       "    </tr>\n",
       "  </thead>\n",
       "  <tbody>\n",
       "    <tr>\n",
       "      <th>0</th>\n",
       "      <td>21-05-19 11:53</td>\n",
       "      <td>0</td>\n",
       "      <td>98</td>\n",
       "      <td>1.620359</td>\n",
       "      <td>97.282104</td>\n",
       "      <td>0.137211</td>\n",
       "      <td>10.061290</td>\n",
       "      <td>28.213074</td>\n",
       "      <td>2</td>\n",
       "      <td>NaN</td>\n",
       "      <td>137.314039</td>\n",
       "    </tr>\n",
       "    <tr>\n",
       "      <th>1</th>\n",
       "      <td>21-05-19 11:54</td>\n",
       "      <td>1</td>\n",
       "      <td>96</td>\n",
       "      <td>1.586915</td>\n",
       "      <td>97.476720</td>\n",
       "      <td>0.135318</td>\n",
       "      <td>10.035237</td>\n",
       "      <td>28.137848</td>\n",
       "      <td>2</td>\n",
       "      <td>NaN</td>\n",
       "      <td>137.372038</td>\n",
       "    </tr>\n",
       "    <tr>\n",
       "      <th>2</th>\n",
       "      <td>21-05-19 11:55</td>\n",
       "      <td>2</td>\n",
       "      <td>96</td>\n",
       "      <td>1.558073</td>\n",
       "      <td>97.546370</td>\n",
       "      <td>0.134258</td>\n",
       "      <td>10.022614</td>\n",
       "      <td>28.149506</td>\n",
       "      <td>2</td>\n",
       "      <td>NaN</td>\n",
       "      <td>137.410821</td>\n",
       "    </tr>\n",
       "    <tr>\n",
       "      <th>3</th>\n",
       "      <td>21-05-19 11:56</td>\n",
       "      <td>3</td>\n",
       "      <td>96</td>\n",
       "      <td>1.536727</td>\n",
       "      <td>97.521300</td>\n",
       "      <td>0.133044</td>\n",
       "      <td>10.019047</td>\n",
       "      <td>28.144989</td>\n",
       "      <td>2</td>\n",
       "      <td>NaN</td>\n",
       "      <td>137.355106</td>\n",
       "    </tr>\n",
       "    <tr>\n",
       "      <th>4</th>\n",
       "      <td>21-05-19 11:57</td>\n",
       "      <td>4</td>\n",
       "      <td>98</td>\n",
       "      <td>1.510011</td>\n",
       "      <td>97.643640</td>\n",
       "      <td>0.132248</td>\n",
       "      <td>10.018088</td>\n",
       "      <td>28.144043</td>\n",
       "      <td>2</td>\n",
       "      <td>NaN</td>\n",
       "      <td>137.448031</td>\n",
       "    </tr>\n",
       "    <tr>\n",
       "      <th>...</th>\n",
       "      <td>...</td>\n",
       "      <td>...</td>\n",
       "      <td>...</td>\n",
       "      <td>...</td>\n",
       "      <td>...</td>\n",
       "      <td>...</td>\n",
       "      <td>...</td>\n",
       "      <td>...</td>\n",
       "      <td>...</td>\n",
       "      <td>...</td>\n",
       "      <td>...</td>\n",
       "    </tr>\n",
       "    <tr>\n",
       "      <th>4974</th>\n",
       "      <td>25-05-19 0:51</td>\n",
       "      <td>143</td>\n",
       "      <td>86</td>\n",
       "      <td>76.474670</td>\n",
       "      <td>101.003090</td>\n",
       "      <td>-0.284334</td>\n",
       "      <td>9.963284</td>\n",
       "      <td>26.190490</td>\n",
       "      <td>0</td>\n",
       "      <td>NaN</td>\n",
       "      <td>213.347200</td>\n",
       "    </tr>\n",
       "    <tr>\n",
       "      <th>4975</th>\n",
       "      <td>25-05-19 0:52</td>\n",
       "      <td>144</td>\n",
       "      <td>86</td>\n",
       "      <td>76.304344</td>\n",
       "      <td>101.060036</td>\n",
       "      <td>-0.281613</td>\n",
       "      <td>9.960735</td>\n",
       "      <td>26.205017</td>\n",
       "      <td>0</td>\n",
       "      <td>NaN</td>\n",
       "      <td>213.248519</td>\n",
       "    </tr>\n",
       "    <tr>\n",
       "      <th>4976</th>\n",
       "      <td>25-05-19 0:53</td>\n",
       "      <td>145</td>\n",
       "      <td>86</td>\n",
       "      <td>76.132810</td>\n",
       "      <td>100.933650</td>\n",
       "      <td>-0.278773</td>\n",
       "      <td>9.958983</td>\n",
       "      <td>26.215302</td>\n",
       "      <td>0</td>\n",
       "      <td>NaN</td>\n",
       "      <td>212.961972</td>\n",
       "    </tr>\n",
       "    <tr>\n",
       "      <th>4977</th>\n",
       "      <td>25-05-19 0:54</td>\n",
       "      <td>146</td>\n",
       "      <td>84</td>\n",
       "      <td>76.036200</td>\n",
       "      <td>100.961590</td>\n",
       "      <td>-0.275675</td>\n",
       "      <td>9.962255</td>\n",
       "      <td>26.193726</td>\n",
       "      <td>0</td>\n",
       "      <td>NaN</td>\n",
       "      <td>212.878096</td>\n",
       "    </tr>\n",
       "    <tr>\n",
       "      <th>4978</th>\n",
       "      <td>25-05-19 0:55</td>\n",
       "      <td>147</td>\n",
       "      <td>85</td>\n",
       "      <td>75.910164</td>\n",
       "      <td>101.124610</td>\n",
       "      <td>-0.271592</td>\n",
       "      <td>9.962404</td>\n",
       "      <td>26.202423</td>\n",
       "      <td>0</td>\n",
       "      <td>NaN</td>\n",
       "      <td>212.928009</td>\n",
       "    </tr>\n",
       "  </tbody>\n",
       "</table>\n",
       "<p>4979 rows × 11 columns</p>\n",
       "</div>"
      ],
      "text/plain": [
       "                Date  Frame No  BAT       COND          DO       ORP  \\\n",
       "0     21-05-19 11:53         0   98   1.620359   97.282104  0.137211   \n",
       "1     21-05-19 11:54         1   96   1.586915   97.476720  0.135318   \n",
       "2     21-05-19 11:55         2   96   1.558073   97.546370  0.134258   \n",
       "3     21-05-19 11:56         3   96   1.536727   97.521300  0.133044   \n",
       "4     21-05-19 11:57         4   98   1.510011   97.643640  0.132248   \n",
       "...              ...       ...  ...        ...         ...       ...   \n",
       "4974   25-05-19 0:51       143   86  76.474670  101.003090 -0.284334   \n",
       "4975   25-05-19 0:52       144   86  76.304344  101.060036 -0.281613   \n",
       "4976   25-05-19 0:53       145   86  76.132810  100.933650 -0.278773   \n",
       "4977   25-05-19 0:54       146   84  76.036200  100.961590 -0.275675   \n",
       "4978   25-05-19 0:55       147   85  75.910164  101.124610 -0.271592   \n",
       "\n",
       "             PH         WT  Cluster  Unnamed: 9         ADD  \n",
       "0     10.061290  28.213074        2         NaN  137.314039  \n",
       "1     10.035237  28.137848        2         NaN  137.372038  \n",
       "2     10.022614  28.149506        2         NaN  137.410821  \n",
       "3     10.019047  28.144989        2         NaN  137.355106  \n",
       "4     10.018088  28.144043        2         NaN  137.448031  \n",
       "...         ...        ...      ...         ...         ...  \n",
       "4974   9.963284  26.190490        0         NaN  213.347200  \n",
       "4975   9.960735  26.205017        0         NaN  213.248519  \n",
       "4976   9.958983  26.215302        0         NaN  212.961972  \n",
       "4977   9.962255  26.193726        0         NaN  212.878096  \n",
       "4978   9.962404  26.202423        0         NaN  212.928009  \n",
       "\n",
       "[4979 rows x 11 columns]"
      ]
     },
     "execution_count": 45,
     "metadata": {},
     "output_type": "execute_result"
    }
   ],
   "source": [
    "df"
   ]
  },
  {
   "cell_type": "code",
   "execution_count": null,
   "metadata": {},
   "outputs": [],
   "source": []
  },
  {
   "cell_type": "code",
   "execution_count": 46,
   "metadata": {},
   "outputs": [
    {
     "data": {
      "text/plain": [
       "<matplotlib.axes._subplots.AxesSubplot at 0x664ae98>"
      ]
     },
     "execution_count": 46,
     "metadata": {},
     "output_type": "execute_result"
    },
    {
     "data": {
      "image/png": "[encoded data removed]",
      "text/plain": [
       "<Figure size 432x288 with 1 Axes>"
      ]
     },
     "metadata": {
      "needs_background": "light"
     },
     "output_type": "display_data"
    }
   ],
   "source": [
    "sns.distplot(df['WT'])"
   ]
  },
  {
   "cell_type": "code",
   "execution_count": 47,
   "metadata": {},
   "outputs": [
    {
     "data": {
      "text/plain": [
       "<matplotlib.axes._subplots.AxesSubplot at 0x66eece8>"
      ]
     },
     "execution_count": 47,
     "metadata": {},
     "output_type": "execute_result"
    },
    {
     "data": {
      "image/png": "[encoded data removed]",
      "text/plain": [
       "<Figure size 432x288 with 1 Axes>"
      ]
     },
     "metadata": {
      "needs_background": "light"
     },
     "output_type": "display_data"
    }
   ],
   "source": [
    "sns.distplot(df['DO'])"
   ]
  },
  {
   "cell_type": "code",
   "execution_count": 9,
   "metadata": {},
   "outputs": [
    {
     "data": {
      "text/plain": [
       "<matplotlib.axes._subplots.AxesSubplot at 0x1c680dd8>"
      ]
     },
     "execution_count": 9,
     "metadata": {},
     "output_type": "execute_result"
    },
    {
     "data": {
      "image/png": "[encoded data removed]",
      "text/plain": [
       "<Figure size 432x288 with 1 Axes>"
      ]
     },
     "metadata": {
      "needs_background": "light"
     },
     "output_type": "display_data"
    }
   ],
   "source": [
    "sns.distplot(df['ORP'])"
   ]
  },
  {
   "cell_type": "code",
   "execution_count": 48,
   "metadata": {},
   "outputs": [
    {
     "data": {
      "text/plain": [
       "<matplotlib.axes._subplots.AxesSubplot at 0x676e628>"
      ]
     },
     "execution_count": 48,
     "metadata": {},
     "output_type": "execute_result"
    },
    {
     "data": {
      "image/png": "[encoded data removed]",
      "text/plain": [
       "<Figure size 432x288 with 1 Axes>"
      ]
     },
     "metadata": {
      "needs_background": "light"
     },
     "output_type": "display_data"
    }
   ],
   "source": [
    "sns.distplot(df['PH'])"
   ]
  },
  {
   "cell_type": "code",
   "execution_count": 49,
   "metadata": {},
   "outputs": [
    {
     "data": {
      "text/plain": [
       "<matplotlib.axes._subplots.AxesSubplot at 0x676e640>"
      ]
     },
     "execution_count": 49,
     "metadata": {},
     "output_type": "execute_result"
    },
    {
     "data": {
      "image/png": "[encoded data removed]",
      "text/plain": [
       "<Figure size 432x288 with 1 Axes>"
      ]
     },
     "metadata": {
      "needs_background": "light"
     },
     "output_type": "display_data"
    }
   ],
   "source": [
    "sns.distplot(df['COND'])"
   ]
  },
  {
   "cell_type": "code",
   "execution_count": 27,
   "metadata": {},
   "outputs": [
    {
     "data": {
      "text/plain": [
       "array([0.00393373, 0.01868519, 0.00786745, 0.04032068])"
      ]
     },
     "execution_count": 27,
     "metadata": {},
     "output_type": "execute_result"
    },
    {
     "data": {
      "image/png": "[encoded data removed]",
      "text/plain": [
       "<Figure size 432x288 with 1 Axes>"
      ]
     },
     "metadata": {
      "needs_background": "light"
     },
     "output_type": "display_data"
    }
   ],
   "source": [
    "cond=[]\n",
    "for h in sns.distplot(df['COND']).patches: \n",
    "    cond.append(h.get_height())\n",
    "cond=np.array(cond)\n",
    "cond"
   ]
  },
  {
   "cell_type": "code",
   "execution_count": 28,
   "metadata": {},
   "outputs": [
    {
     "name": "stdout",
     "output_type": "stream",
     "text": [
      "(array([1], dtype=int32),)\n",
      "(array([2], dtype=int32),)\n"
     ]
    }
   ],
   "source": [
    "#cond\n",
    "print(argrelextrema(cond, np.greater))\n",
    "print(argrelextrema(cond, np.less))"
   ]
  },
  {
   "cell_type": "code",
   "execution_count": 26,
   "metadata": {},
   "outputs": [
    {
     "data": {
      "text/plain": [
       "array([0.07239396, 0.        , 0.        , 0.        , 0.        ,\n",
       "       0.        , 0.        , 0.        , 0.        , 0.03619698,\n",
       "       0.21718187, 0.90492444, 0.61534862, 0.3257728 , 0.43436373])"
      ]
     },
     "execution_count": 26,
     "metadata": {},
     "output_type": "execute_result"
    },
    {
     "data": {
      "image/png": "[encoded data removed]",
      "text/plain": [
       "<Figure size 432x288 with 1 Axes>"
      ]
     },
     "metadata": {
      "needs_background": "light"
     },
     "output_type": "display_data"
    }
   ],
   "source": [
    "ph=[]\n",
    "for h in sns.distplot(df['PH']).patches: \n",
    "    ph.append(h.get_height())\n",
    "ph=np.array(ph)\n",
    "ph"
   ]
  },
  {
   "cell_type": "code",
   "execution_count": 16,
   "metadata": {},
   "outputs": [],
   "source": [
    "ph=np.array(ph)"
   ]
  },
  {
   "cell_type": "code",
   "execution_count": 17,
   "metadata": {},
   "outputs": [],
   "source": [
    "import numpy as np\n",
    "from scipy.signal import argrelextrema"
   ]
  },
  {
   "cell_type": "code",
   "execution_count": 24,
   "metadata": {},
   "outputs": [
    {
     "name": "stdout",
     "output_type": "stream",
     "text": [
      "(array([11], dtype=int32),)\n",
      "(array([13], dtype=int32),)\n"
     ]
    }
   ],
   "source": [
    "#ph\n",
    "print(argrelextrema(ph, np.greater))\n",
    "print(argrelextrema(ph, np.less))"
   ]
  },
  {
   "cell_type": "code",
   "execution_count": 30,
   "metadata": {},
   "outputs": [
    {
     "data": {
      "text/plain": [
       "array([0.01169028, 0.        , 0.        , 0.04676112, 0.11105767,\n",
       "       0.11690281, 0.03507084, 0.05260626, 0.01753542, 0.0292257 ])"
      ]
     },
     "execution_count": 30,
     "metadata": {},
     "output_type": "execute_result"
    },
    {
     "data": {
      "image/png": "[encoded data removed]",
      "text/plain": [
       "<Figure size 432x288 with 1 Axes>"
      ]
     },
     "metadata": {
      "needs_background": "light"
     },
     "output_type": "display_data"
    }
   ],
   "source": [
    "do=[]\n",
    "for h in sns.distplot(df['DO']).patches: \n",
    "    do.append(h.get_height())\n",
    "do=np.array(do)\n",
    "do"
   ]
  },
  {
   "cell_type": "code",
   "execution_count": 31,
   "metadata": {},
   "outputs": [
    {
     "name": "stdout",
     "output_type": "stream",
     "text": [
      "(array([5, 7], dtype=int32),)\n",
      "(array([6, 8], dtype=int32),)\n"
     ]
    }
   ],
   "source": [
    "#do\n",
    "print(argrelextrema(do, np.greater))\n",
    "print(argrelextrema(do, np.less))"
   ]
  },
  {
   "cell_type": "code",
   "execution_count": 36,
   "metadata": {},
   "outputs": [
    {
     "data": {
      "text/plain": [
       "array([1.81924648, 1.09154789, 1.01877803, 0.94600817, 0.21830958,\n",
       "       0.        , 0.        , 0.        , 0.        , 0.        ,\n",
       "       0.        , 0.        , 0.        , 0.        , 0.        ,\n",
       "       0.        , 0.        , 0.        , 0.        , 0.        ,\n",
       "       0.        , 0.        , 0.        , 0.        , 0.        ,\n",
       "       0.14553972])"
      ]
     },
     "execution_count": 36,
     "metadata": {},
     "output_type": "execute_result"
    },
    {
     "data": {
      "image/png": "[encoded data removed]",
      "text/plain": [
       "<Figure size 432x288 with 1 Axes>"
      ]
     },
     "metadata": {
      "needs_background": "light"
     },
     "output_type": "display_data"
    }
   ],
   "source": [
    "wt=[]\n",
    "for h in sns.distplot(df['WT']).patches: \n",
    "    wt.append(h.get_height())\n",
    "wt=np.array(wt)\n",
    "wt"
   ]
  },
  {
   "cell_type": "code",
   "execution_count": 37,
   "metadata": {},
   "outputs": [
    {
     "name": "stdout",
     "output_type": "stream",
     "text": [
      "(array([], dtype=int32),)\n",
      "(array([], dtype=int32),)\n"
     ]
    }
   ],
   "source": [
    "#wt\n",
    "print(argrelextrema(wt, np.greater))\n",
    "print(argrelextrema(wt, np.less))"
   ]
  },
  {
   "cell_type": "code",
   "execution_count": 38,
   "metadata": {},
   "outputs": [
    {
     "data": {
      "text/plain": [
       "array([ 9.35397606,  0.        ,  0.        ,  0.        ,  0.        ,\n",
       "        0.        ,  0.        ,  0.        ,  0.        ,  0.        ,\n",
       "        0.        ,  0.        ,  0.        ,  0.        ,  0.        ,\n",
       "        0.        ,  4.67698803, 32.73891622, 23.38494015, 74.83180849,\n",
       "       84.18578456, 42.09289228, 28.06192819, 37.41590425])"
      ]
     },
     "execution_count": 38,
     "metadata": {},
     "output_type": "execute_result"
    },
    {
     "data": {
      "image/png": "[encoded data removed]",
      "text/plain": [
       "<Figure size 432x288 with 1 Axes>"
      ]
     },
     "metadata": {
      "needs_background": "light"
     },
     "output_type": "display_data"
    }
   ],
   "source": [
    "orp=[]\n",
    "for h in sns.distplot(df['ORP']).patches: \n",
    "    orp.append(h.get_height())\n",
    "orp=np.array(orp)\n",
    "orp"
   ]
  },
  {
   "cell_type": "code",
   "execution_count": 39,
   "metadata": {},
   "outputs": [
    {
     "name": "stdout",
     "output_type": "stream",
     "text": [
      "(array([], dtype=int32),)\n",
      "(array([], dtype=int32),)\n"
     ]
    }
   ],
   "source": [
    "#wt\n",
    "print(argrelextrema(wt, np.greater))\n",
    "print(argrelextrema(wt, np.less))"
   ]
  },
  {
   "cell_type": "code",
   "execution_count": null,
   "metadata": {},
   "outputs": [],
   "source": []
  }
 ],
 "metadata": {
  "kernelspec": {
   "display_name": "Python 3 (ipykernel)",
   "language": "python",
   "name": "python3"
  },
  "language_info": {
   "codemirror_mode": {
    "name": "ipython",
    "version": 3
   },
   "file_extension": ".py",
   "mimetype": "text/x-python",
   "name": "python",
   "nbconvert_exporter": "python",
   "pygments_lexer": "ipython3",
   "version": "3.9.12"
  }
 },
 "nbformat": 4,
 "nbformat_minor": 4
}
