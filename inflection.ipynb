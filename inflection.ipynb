{
 "cells": [
  {
   "cell_type": "code",
   "execution_count": 2,
   "metadata": {},
   "outputs": [],
   "source": [
    "import numpy as np\n",
    "import pandas as pd\n",
    "import matplotlib.pyplot as plt\n",
    "from sklearn.preprocessing import MinMaxScaler\n",
    "import seaborn as sns\n",
    "sns.set()\n",
    "%matplotlib inline"
   ]
  },
  {
   "cell_type": "code",
   "execution_count": 7,
   "metadata": {},
   "outputs": [],
   "source": [
    "data=pd.read_csv('g3.csv')"
   ]
  },
  {
   "cell_type": "code",
   "execution_count": 16,
   "metadata": {},
   "outputs": [
    {
     "data": {
      "text/html": [
       "<div>\n",
       "<style scoped>\n",
       "    .dataframe tbody tr th:only-of-type {\n",
       "        vertical-align: middle;\n",
       "    }\n",
       "\n",
       "    .dataframe tbody tr th {\n",
       "        vertical-align: top;\n",
       "    }\n",
       "\n",
       "    .dataframe thead th {\n",
       "        text-align: right;\n",
       "    }\n",
       "</style>\n",
       "<table border=\"1\" class=\"dataframe\">\n",
       "  <thead>\n",
       "    <tr style=\"text-align: right;\">\n",
       "      <th></th>\n",
       "      <th>Date</th>\n",
       "      <th>Frame No</th>\n",
       "      <th>BAT</th>\n",
       "      <th>COND</th>\n",
       "      <th>DO</th>\n",
       "      <th>ORP</th>\n",
       "      <th>PH</th>\n",
       "      <th>WT</th>\n",
       "      <th>Cluster</th>\n",
       "      <th>Unnamed: 9</th>\n",
       "      <th>ADD</th>\n",
       "    </tr>\n",
       "  </thead>\n",
       "  <tbody>\n",
       "    <tr>\n",
       "      <th>0</th>\n",
       "      <td>21-05-19 11:53</td>\n",
       "      <td>0</td>\n",
       "      <td>98</td>\n",
       "      <td>1.620359</td>\n",
       "      <td>97.282104</td>\n",
       "      <td>0.137211</td>\n",
       "      <td>10.061290</td>\n",
       "      <td>28.213074</td>\n",
       "      <td>2</td>\n",
       "      <td>NaN</td>\n",
       "      <td>137.314039</td>\n",
       "    </tr>\n",
       "    <tr>\n",
       "      <th>1</th>\n",
       "      <td>21-05-19 11:54</td>\n",
       "      <td>1</td>\n",
       "      <td>96</td>\n",
       "      <td>1.586915</td>\n",
       "      <td>97.476720</td>\n",
       "      <td>0.135318</td>\n",
       "      <td>10.035237</td>\n",
       "      <td>28.137848</td>\n",
       "      <td>2</td>\n",
       "      <td>NaN</td>\n",
       "      <td>137.372038</td>\n",
       "    </tr>\n",
       "    <tr>\n",
       "      <th>2</th>\n",
       "      <td>21-05-19 11:55</td>\n",
       "      <td>2</td>\n",
       "      <td>96</td>\n",
       "      <td>1.558073</td>\n",
       "      <td>97.546370</td>\n",
       "      <td>0.134258</td>\n",
       "      <td>10.022614</td>\n",
       "      <td>28.149506</td>\n",
       "      <td>2</td>\n",
       "      <td>NaN</td>\n",
       "      <td>137.410821</td>\n",
       "    </tr>\n",
       "    <tr>\n",
       "      <th>3</th>\n",
       "      <td>21-05-19 11:56</td>\n",
       "      <td>3</td>\n",
       "      <td>96</td>\n",
       "      <td>1.536727</td>\n",
       "      <td>97.521300</td>\n",
       "      <td>0.133044</td>\n",
       "      <td>10.019047</td>\n",
       "      <td>28.144989</td>\n",
       "      <td>2</td>\n",
       "      <td>NaN</td>\n",
       "      <td>137.355106</td>\n",
       "    </tr>\n",
       "    <tr>\n",
       "      <th>4</th>\n",
       "      <td>21-05-19 11:57</td>\n",
       "      <td>4</td>\n",
       "      <td>98</td>\n",
       "      <td>1.510011</td>\n",
       "      <td>97.643640</td>\n",
       "      <td>0.132248</td>\n",
       "      <td>10.018088</td>\n",
       "      <td>28.144043</td>\n",
       "      <td>2</td>\n",
       "      <td>NaN</td>\n",
       "      <td>137.448031</td>\n",
       "    </tr>\n",
       "    <tr>\n",
       "      <th>...</th>\n",
       "      <td>...</td>\n",
       "      <td>...</td>\n",
       "      <td>...</td>\n",
       "      <td>...</td>\n",
       "      <td>...</td>\n",
       "      <td>...</td>\n",
       "      <td>...</td>\n",
       "      <td>...</td>\n",
       "      <td>...</td>\n",
       "      <td>...</td>\n",
       "      <td>...</td>\n",
       "    </tr>\n",
       "    <tr>\n",
       "      <th>4974</th>\n",
       "      <td>25-05-19 0:51</td>\n",
       "      <td>143</td>\n",
       "      <td>86</td>\n",
       "      <td>76.474670</td>\n",
       "      <td>101.003090</td>\n",
       "      <td>-0.284334</td>\n",
       "      <td>9.963284</td>\n",
       "      <td>26.190490</td>\n",
       "      <td>0</td>\n",
       "      <td>NaN</td>\n",
       "      <td>213.347200</td>\n",
       "    </tr>\n",
       "    <tr>\n",
       "      <th>4975</th>\n",
       "      <td>25-05-19 0:52</td>\n",
       "      <td>144</td>\n",
       "      <td>86</td>\n",
       "      <td>76.304344</td>\n",
       "      <td>101.060036</td>\n",
       "      <td>-0.281613</td>\n",
       "      <td>9.960735</td>\n",
       "      <td>26.205017</td>\n",
       "      <td>0</td>\n",
       "      <td>NaN</td>\n",
       "      <td>213.248519</td>\n",
       "    </tr>\n",
       "    <tr>\n",
       "      <th>4976</th>\n",
       "      <td>25-05-19 0:53</td>\n",
       "      <td>145</td>\n",
       "      <td>86</td>\n",
       "      <td>76.132810</td>\n",
       "      <td>100.933650</td>\n",
       "      <td>-0.278773</td>\n",
       "      <td>9.958983</td>\n",
       "      <td>26.215302</td>\n",
       "      <td>0</td>\n",
       "      <td>NaN</td>\n",
       "      <td>212.961972</td>\n",
       "    </tr>\n",
       "    <tr>\n",
       "      <th>4977</th>\n",
       "      <td>25-05-19 0:54</td>\n",
       "      <td>146</td>\n",
       "      <td>84</td>\n",
       "      <td>76.036200</td>\n",
       "      <td>100.961590</td>\n",
       "      <td>-0.275675</td>\n",
       "      <td>9.962255</td>\n",
       "      <td>26.193726</td>\n",
       "      <td>0</td>\n",
       "      <td>NaN</td>\n",
       "      <td>212.878096</td>\n",
       "    </tr>\n",
       "    <tr>\n",
       "      <th>4978</th>\n",
       "      <td>25-05-19 0:55</td>\n",
       "      <td>147</td>\n",
       "      <td>85</td>\n",
       "      <td>75.910164</td>\n",
       "      <td>101.124610</td>\n",
       "      <td>-0.271592</td>\n",
       "      <td>9.962404</td>\n",
       "      <td>26.202423</td>\n",
       "      <td>0</td>\n",
       "      <td>NaN</td>\n",
       "      <td>212.928009</td>\n",
       "    </tr>\n",
       "  </tbody>\n",
       "</table>\n",
       "<p>4979 rows × 11 columns</p>\n",
       "</div>"
      ],
      "text/plain": [
       "                Date  Frame No  BAT       COND          DO       ORP  \\\n",
       "0     21-05-19 11:53         0   98   1.620359   97.282104  0.137211   \n",
       "1     21-05-19 11:54         1   96   1.586915   97.476720  0.135318   \n",
       "2     21-05-19 11:55         2   96   1.558073   97.546370  0.134258   \n",
       "3     21-05-19 11:56         3   96   1.536727   97.521300  0.133044   \n",
       "4     21-05-19 11:57         4   98   1.510011   97.643640  0.132248   \n",
       "...              ...       ...  ...        ...         ...       ...   \n",
       "4974   25-05-19 0:51       143   86  76.474670  101.003090 -0.284334   \n",
       "4975   25-05-19 0:52       144   86  76.304344  101.060036 -0.281613   \n",
       "4976   25-05-19 0:53       145   86  76.132810  100.933650 -0.278773   \n",
       "4977   25-05-19 0:54       146   84  76.036200  100.961590 -0.275675   \n",
       "4978   25-05-19 0:55       147   85  75.910164  101.124610 -0.271592   \n",
       "\n",
       "             PH         WT  Cluster  Unnamed: 9         ADD  \n",
       "0     10.061290  28.213074        2         NaN  137.314039  \n",
       "1     10.035237  28.137848        2         NaN  137.372038  \n",
       "2     10.022614  28.149506        2         NaN  137.410821  \n",
       "3     10.019047  28.144989        2         NaN  137.355106  \n",
       "4     10.018088  28.144043        2         NaN  137.448031  \n",
       "...         ...        ...      ...         ...         ...  \n",
       "4974   9.963284  26.190490        0         NaN  213.347200  \n",
       "4975   9.960735  26.205017        0         NaN  213.248519  \n",
       "4976   9.958983  26.215302        0         NaN  212.961972  \n",
       "4977   9.962255  26.193726        0         NaN  212.878096  \n",
       "4978   9.962404  26.202423        0         NaN  212.928009  \n",
       "\n",
       "[4979 rows x 11 columns]"
      ]
     },
     "execution_count": 16,
     "metadata": {},
     "output_type": "execute_result"
    }
   ],
   "source": [
    "data"
   ]
  },
  {
   "cell_type": "code",
   "execution_count": 8,
   "metadata": {},
   "outputs": [],
   "source": [
    "DO=data['DO']"
   ]
  },
  {
   "cell_type": "code",
   "execution_count": 9,
   "metadata": {},
   "outputs": [],
   "source": [
    "COND=data['COND']"
   ]
  },
  {
   "cell_type": "code",
   "execution_count": 12,
   "metadata": {},
   "outputs": [
    {
     "data": {
      "text/plain": [
       "array([0.00560909, 0.00934848, 0.0215015 , 0.02804544, 0.03178483,\n",
       "       0.04954694, 0.08787571, 0.12807418, 0.08974541, 0.05515603,\n",
       "       0.03271968, 0.01682726, 0.0215015 , 0.01589242, 0.01963181,\n",
       "       0.03832877, 0.04954694, 0.0448727 , 0.03645907, 0.04767725,\n",
       "       0.03926362, 0.04393786, 0.05609088, 0.05796058, 0.06824391,\n",
       "       0.10189843, 0.10002874, 0.16172871, 0.22623322, 0.39637556,\n",
       "       0.40665889, 0.39824525, 0.21594989, 0.28793319, 0.2823241 ,\n",
       "       0.14957568, 0.10096359, 0.07478784, 0.10376813, 0.08694087,\n",
       "       0.08226663, 0.12713933, 0.12713933, 0.04767725, 0.06543936,\n",
       "       0.01402272, 0.0018697 ])"
      ]
     },
     "execution_count": 12,
     "metadata": {},
     "output_type": "execute_result"
    },
    {
     "data": {
      "image/png": "[encoded data removed]",
      "text/plain": [
       "<Figure size 432x288 with 1 Axes>"
      ]
     },
     "metadata": {
      "needs_background": "light"
     },
     "output_type": "display_data"
    }
   ],
   "source": [
    "do=[]\n",
    "for h in sns.distplot(DO).patches: \n",
    "    do.append(h.get_height())\n",
    "do=np.array(do)\n",
    "do"
   ]
  },
  {
   "cell_type": "code",
   "execution_count": 19,
   "metadata": {},
   "outputs": [
    {
     "data": {
      "text/plain": [
       "(47,)"
      ]
     },
     "execution_count": 19,
     "metadata": {},
     "output_type": "execute_result"
    }
   ],
   "source": [
    "do.shape"
   ]
  },
  {
   "cell_type": "code",
   "execution_count": 13,
   "metadata": {},
   "outputs": [],
   "source": [
    "def turning_points(array):\n",
    "    ''' turning_points(array) -> min_indices, max_indices\n",
    "    Finds the turning points within an 1D array and returns the indices of the minimum and \n",
    "    maximum turning points in two separate lists.\n",
    "    '''\n",
    "    idx_max, idx_min = [], []\n",
    "    if (len(array) < 3): \n",
    "        return idx_min, idx_max\n",
    "\n",
    "    NEUTRAL, RISING, FALLING = range(3)\n",
    "    def get_state(a, b):\n",
    "        if a < b: return RISING\n",
    "        if a > b: return FALLING\n",
    "        return NEUTRAL\n",
    "\n",
    "    ps = get_state(array[0], array[1])\n",
    "    begin = 1\n",
    "    for i in range(2, len(array)):\n",
    "        s = get_state(array[i - 1], array[i])\n",
    "        if s != NEUTRAL:\n",
    "            if ps != NEUTRAL and ps != s:\n",
    "                if s == FALLING: \n",
    "                    idx_max.append((begin + i - 1) // 2)\n",
    "                else:\n",
    "                    idx_min.append((begin + i - 1) // 2)\n",
    "            begin = i\n",
    "            ps = s\n",
    "    return idx_min, idx_max\n",
    "if __name__ == \"__main__\":\n",
    "    X=turning_points(do)"
   ]
  },
  {
   "cell_type": "code",
   "execution_count": 14,
   "metadata": {},
   "outputs": [
    {
     "data": {
      "text/plain": [
       "([11, 13, 18, 20, 26, 32, 37, 40, 43], [7, 12, 16, 19, 25, 30, 33, 38, 42, 44])"
      ]
     },
     "execution_count": 14,
     "metadata": {},
     "output_type": "execute_result"
    }
   ],
   "source": [
    "X"
   ]
  },
  {
   "cell_type": "code",
   "execution_count": 15,
   "metadata": {},
   "outputs": [
    {
     "data": {
      "text/plain": [
       "array([3.22900467e-01, 1.23106256e-03, 3.62077223e-04, 8.68985335e-04,\n",
       "       1.59313978e-03, 7.96569890e-04, 5.79323556e-04, 5.79323556e-04,\n",
       "       1.80314457e-02, 1.08623167e-03, 0.00000000e+00, 0.00000000e+00,\n",
       "       0.00000000e+00, 0.00000000e+00, 0.00000000e+00, 0.00000000e+00,\n",
       "       0.00000000e+00, 0.00000000e+00, 0.00000000e+00, 0.00000000e+00,\n",
       "       0.00000000e+00, 0.00000000e+00, 0.00000000e+00, 0.00000000e+00,\n",
       "       0.00000000e+00, 0.00000000e+00, 7.24154446e-05, 1.95521700e-03,\n",
       "       2.82420234e-03, 4.34492667e-03, 2.82420234e-03, 0.00000000e+00,\n",
       "       0.00000000e+00, 0.00000000e+00, 0.00000000e+00, 0.00000000e+00,\n",
       "       0.00000000e+00, 0.00000000e+00, 0.00000000e+00, 0.00000000e+00,\n",
       "       0.00000000e+00, 0.00000000e+00, 2.17246334e-04, 1.44830889e-04,\n",
       "       0.00000000e+00, 7.24154446e-05, 0.00000000e+00, 0.00000000e+00,\n",
       "       0.00000000e+00, 7.24154446e-05])"
      ]
     },
     "execution_count": 15,
     "metadata": {},
     "output_type": "execute_result"
    },
    {
     "data": {
      "image/png": "[encoded data removed]",
      "text/plain": [
       "<Figure size 432x288 with 1 Axes>"
      ]
     },
     "metadata": {
      "needs_background": "light"
     },
     "output_type": "display_data"
    }
   ],
   "source": [
    "cond=[]\n",
    "for h in sns.distplot(COND).patches: \n",
    "    cond.append(h.get_height())\n",
    "cond=np.array(cond)\n",
    "cond"
   ]
  },
  {
   "cell_type": "code",
   "execution_count": null,
   "metadata": {},
   "outputs": [],
   "source": []
  },
  {
   "cell_type": "code",
   "execution_count": 24,
   "metadata": {},
   "outputs": [
    {
     "data": {
      "text/plain": [
       "(50,)"
      ]
     },
     "execution_count": 24,
     "metadata": {},
     "output_type": "execute_result"
    }
   ],
   "source": [
    "cond.shape"
   ]
  },
  {
   "cell_type": "code",
   "execution_count": 17,
   "metadata": {},
   "outputs": [],
   "source": [
    "def turning_points(array):\n",
    "    ''' turning_points(array) -> min_indices, max_indices\n",
    "    Finds the turning points within an 1D array and returns the indices of the minimum and \n",
    "    maximum turning points in two separate lists.\n",
    "    '''\n",
    "    idx_max, idx_min = [], []\n",
    "    if (len(array) < 3): \n",
    "        return idx_min, idx_max\n",
    "\n",
    "    NEUTRAL, RISING, FALLING = range(3)\n",
    "    def get_state(a, b):\n",
    "        if a < b: return RISING\n",
    "        if a > b: return FALLING\n",
    "        return NEUTRAL\n",
    "\n",
    "    ps = get_state(array[0], array[1])\n",
    "    begin = 1\n",
    "    for i in range(2, len(array)):\n",
    "        s = get_state(array[i - 1], array[i])\n",
    "        if s != NEUTRAL:\n",
    "            if ps != NEUTRAL and ps != s:\n",
    "                if s == FALLING: \n",
    "                    idx_max.append((begin + i - 1) // 2)\n",
    "                else:\n",
    "                    idx_min.append((begin + i - 1) // 2)\n",
    "            begin = i\n",
    "            ps = s\n",
    "    return idx_min, idx_max\n",
    "if __name__ == \"__main__\":\n",
    "    X=turning_points(cond)"
   ]
  },
  {
   "cell_type": "code",
   "execution_count": 18,
   "metadata": {},
   "outputs": [
    {
     "data": {
      "text/plain": [
       "([2, 6, 17, 36, 44, 47], [4, 8, 29, 42, 45])"
      ]
     },
     "execution_count": 18,
     "metadata": {},
     "output_type": "execute_result"
    }
   ],
   "source": [
    "X"
   ]
  },
  {
   "cell_type": "code",
   "execution_count": 74,
   "metadata": {},
   "outputs": [
    {
     "data": {
      "text/plain": [
       "<matplotlib.lines.Line2D at 0x1e070808>"
      ]
     },
     "execution_count": 74,
     "metadata": {},
     "output_type": "execute_result"
    },
    {
     "data": {
      "image/png": "[encoded data removed]",
      "text/plain": [
       "<Figure size 432x288 with 1 Axes>"
      ]
     },
     "metadata": {
      "needs_background": "light"
     },
     "output_type": "display_data"
    }
   ],
   "source": [
    "plt.plot(array)\n",
    "plt.plot(1,array[1],'ro',label='zero')\n",
    "plt.plot(5,array[5],'ro',label='zero')\n",
    "plt.plot(10,array[10],'ro',label='zero')\n",
    "plt.plot(19,array[19],'ro',label='zero')\n",
    "plt.plot(23,array[23],'ro',label='zero')\n",
    "plt.plot(27,array[27],'ro',label='zero')\n",
    "plt.plot(34,array[34],'ro',label='zero')\n",
    "plt.plot(45,array[45],'ro',label='zero')\n",
    "plt.plot(2,array[2],'go',label='zero')\n",
    "plt.plot(6,array[6],'go',label='zero')\n",
    "plt.plot(16,array[16],'go',label='zero')\n",
    "plt.plot(21,array[21],'go',label='zero')\n",
    "plt.plot(24,array[24],'go',label='zero')\n",
    "plt.plot(33,array[33],'go',label='zero')\n",
    "plt.plot(38,array[38],'go',label='zero')\n",
    "plt.plot(45,array[45],'go',label='zero')\n",
    "plt.axvline(45,array[45], label='pyplot vertical line')"
   ]
  },
  {
   "cell_type": "code",
   "execution_count": 21,
   "metadata": {},
   "outputs": [],
   "source": [
    "do=np.reshape(do, (47, 1))"
   ]
  },
  {
   "cell_type": "code",
   "execution_count": 25,
   "metadata": {},
   "outputs": [],
   "source": [
    "cond=np.reshape(cond, (50, 1))"
   ]
  },
  {
   "cell_type": "code",
   "execution_count": 29,
   "metadata": {},
   "outputs": [],
   "source": [
    "do=pd.DataFrame(do)"
   ]
  },
  {
   "cell_type": "code",
   "execution_count": 30,
   "metadata": {},
   "outputs": [],
   "source": [
    "do.to_csv('do.csv')"
   ]
  },
  {
   "cell_type": "code",
   "execution_count": 32,
   "metadata": {},
   "outputs": [],
   "source": [
    "cond=pd.DataFrame(cond)"
   ]
  },
  {
   "cell_type": "code",
   "execution_count": 33,
   "metadata": {},
   "outputs": [],
   "source": [
    "cond.to_csv('cond.csv')"
   ]
  },
  {
   "cell_type": "code",
   "execution_count": null,
   "metadata": {},
   "outputs": [],
   "source": []
  }
 ],
 "metadata": {
  "kernelspec": {
   "display_name": "Python 3 (ipykernel)",
   "language": "python",
   "name": "python3"
  },
  "language_info": {
   "codemirror_mode": {
    "name": "ipython",
    "version": 3
   },
   "file_extension": ".py",
   "mimetype": "text/x-python",
   "name": "python",
   "nbconvert_exporter": "python",
   "pygments_lexer": "ipython3",
   "version": "3.9.12"
  }
 },
 "nbformat": 4,
 "nbformat_minor": 4
}
