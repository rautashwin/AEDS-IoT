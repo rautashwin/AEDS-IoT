{
 "cells": [
  {
   "cell_type": "code",
   "execution_count": 3,
   "metadata": {},
   "outputs": [],
   "source": [
    "from sklearn.neighbors import KernelDensity\n",
    "from sklearn import mixture\n",
    "from scipy.stats import norm\n",
    "import seaborn as sns\n",
    "from scipy.signal import argrelextrema"
   ]
  },
  {
   "cell_type": "code",
   "execution_count": 4,
   "metadata": {},
   "outputs": [],
   "source": [
    "import numpy as np\n",
    "import pandas as pd\n",
    "from sklearn.cluster import KMeans\n",
    "import matplotlib.pyplot as plt\n",
    "%matplotlib inline"
   ]
  },
  {
   "cell_type": "code",
   "execution_count": 5,
   "metadata": {},
   "outputs": [
    {
     "data": {
      "text/html": [
       "<div>\n",
       "<style scoped>\n",
       "    .dataframe tbody tr th:only-of-type {\n",
       "        vertical-align: middle;\n",
       "    }\n",
       "\n",
       "    .dataframe tbody tr th {\n",
       "        vertical-align: top;\n",
       "    }\n",
       "\n",
       "    .dataframe thead th {\n",
       "        text-align: right;\n",
       "    }\n",
       "</style>\n",
       "<table border=\"1\" class=\"dataframe\">\n",
       "  <thead>\n",
       "    <tr style=\"text-align: right;\">\n",
       "      <th></th>\n",
       "      <th>Date</th>\n",
       "      <th>Frame No</th>\n",
       "      <th>BAT</th>\n",
       "      <th>COND</th>\n",
       "      <th>DO</th>\n",
       "      <th>ORP</th>\n",
       "      <th>PH</th>\n",
       "      <th>WT</th>\n",
       "      <th>Cluster</th>\n",
       "      <th>Unnamed: 9</th>\n",
       "      <th>ADD</th>\n",
       "    </tr>\n",
       "  </thead>\n",
       "  <tbody>\n",
       "    <tr>\n",
       "      <th>0</th>\n",
       "      <td>21-05-19 11:53</td>\n",
       "      <td>0</td>\n",
       "      <td>98</td>\n",
       "      <td>1.620359</td>\n",
       "      <td>97.282104</td>\n",
       "      <td>0.137211</td>\n",
       "      <td>10.061290</td>\n",
       "      <td>28.213074</td>\n",
       "      <td>2</td>\n",
       "      <td>NaN</td>\n",
       "      <td>137.314039</td>\n",
       "    </tr>\n",
       "    <tr>\n",
       "      <th>1</th>\n",
       "      <td>21-05-19 11:54</td>\n",
       "      <td>1</td>\n",
       "      <td>96</td>\n",
       "      <td>1.586915</td>\n",
       "      <td>97.476720</td>\n",
       "      <td>0.135318</td>\n",
       "      <td>10.035237</td>\n",
       "      <td>28.137848</td>\n",
       "      <td>2</td>\n",
       "      <td>NaN</td>\n",
       "      <td>137.372038</td>\n",
       "    </tr>\n",
       "    <tr>\n",
       "      <th>2</th>\n",
       "      <td>21-05-19 11:55</td>\n",
       "      <td>2</td>\n",
       "      <td>96</td>\n",
       "      <td>1.558073</td>\n",
       "      <td>97.546370</td>\n",
       "      <td>0.134258</td>\n",
       "      <td>10.022614</td>\n",
       "      <td>28.149506</td>\n",
       "      <td>2</td>\n",
       "      <td>NaN</td>\n",
       "      <td>137.410821</td>\n",
       "    </tr>\n",
       "    <tr>\n",
       "      <th>3</th>\n",
       "      <td>21-05-19 11:56</td>\n",
       "      <td>3</td>\n",
       "      <td>96</td>\n",
       "      <td>1.536727</td>\n",
       "      <td>97.521300</td>\n",
       "      <td>0.133044</td>\n",
       "      <td>10.019047</td>\n",
       "      <td>28.144989</td>\n",
       "      <td>2</td>\n",
       "      <td>NaN</td>\n",
       "      <td>137.355106</td>\n",
       "    </tr>\n",
       "    <tr>\n",
       "      <th>4</th>\n",
       "      <td>21-05-19 11:57</td>\n",
       "      <td>4</td>\n",
       "      <td>98</td>\n",
       "      <td>1.510011</td>\n",
       "      <td>97.643640</td>\n",
       "      <td>0.132248</td>\n",
       "      <td>10.018088</td>\n",
       "      <td>28.144043</td>\n",
       "      <td>2</td>\n",
       "      <td>NaN</td>\n",
       "      <td>137.448031</td>\n",
       "    </tr>\n",
       "  </tbody>\n",
       "</table>\n",
       "</div>"
      ],
      "text/plain": [
       "             Date  Frame No  BAT      COND         DO       ORP         PH  \\\n",
       "0  21-05-19 11:53         0   98  1.620359  97.282104  0.137211  10.061290   \n",
       "1  21-05-19 11:54         1   96  1.586915  97.476720  0.135318  10.035237   \n",
       "2  21-05-19 11:55         2   96  1.558073  97.546370  0.134258  10.022614   \n",
       "3  21-05-19 11:56         3   96  1.536727  97.521300  0.133044  10.019047   \n",
       "4  21-05-19 11:57         4   98  1.510011  97.643640  0.132248  10.018088   \n",
       "\n",
       "          WT  Cluster  Unnamed: 9         ADD  \n",
       "0  28.213074        2         NaN  137.314039  \n",
       "1  28.137848        2         NaN  137.372038  \n",
       "2  28.149506        2         NaN  137.410821  \n",
       "3  28.144989        2         NaN  137.355106  \n",
       "4  28.144043        2         NaN  137.448031  "
      ]
     },
     "execution_count": 5,
     "metadata": {},
     "output_type": "execute_result"
    }
   ],
   "source": [
    "df = pd.read_csv('g3.csv')\n",
    "df.head()"
   ]
  },
  {
   "cell_type": "code",
   "execution_count": 6,
   "metadata": {},
   "outputs": [
    {
     "data": {
      "text/html": [
       "<div>\n",
       "<style scoped>\n",
       "    .dataframe tbody tr th:only-of-type {\n",
       "        vertical-align: middle;\n",
       "    }\n",
       "\n",
       "    .dataframe tbody tr th {\n",
       "        vertical-align: top;\n",
       "    }\n",
       "\n",
       "    .dataframe thead th {\n",
       "        text-align: right;\n",
       "    }\n",
       "</style>\n",
       "<table border=\"1\" class=\"dataframe\">\n",
       "  <thead>\n",
       "    <tr style=\"text-align: right;\">\n",
       "      <th></th>\n",
       "      <th>COND</th>\n",
       "      <th>DO</th>\n",
       "      <th>ORP</th>\n",
       "      <th>PH</th>\n",
       "      <th>WT</th>\n",
       "    </tr>\n",
       "  </thead>\n",
       "  <tbody>\n",
       "    <tr>\n",
       "      <th>0</th>\n",
       "      <td>1.620359</td>\n",
       "      <td>97.282104</td>\n",
       "      <td>0.137211</td>\n",
       "      <td>10.061290</td>\n",
       "      <td>28.213074</td>\n",
       "    </tr>\n",
       "    <tr>\n",
       "      <th>1</th>\n",
       "      <td>1.586915</td>\n",
       "      <td>97.476720</td>\n",
       "      <td>0.135318</td>\n",
       "      <td>10.035237</td>\n",
       "      <td>28.137848</td>\n",
       "    </tr>\n",
       "    <tr>\n",
       "      <th>2</th>\n",
       "      <td>1.558073</td>\n",
       "      <td>97.546370</td>\n",
       "      <td>0.134258</td>\n",
       "      <td>10.022614</td>\n",
       "      <td>28.149506</td>\n",
       "    </tr>\n",
       "    <tr>\n",
       "      <th>3</th>\n",
       "      <td>1.536727</td>\n",
       "      <td>97.521300</td>\n",
       "      <td>0.133044</td>\n",
       "      <td>10.019047</td>\n",
       "      <td>28.144989</td>\n",
       "    </tr>\n",
       "    <tr>\n",
       "      <th>4</th>\n",
       "      <td>1.510011</td>\n",
       "      <td>97.643640</td>\n",
       "      <td>0.132248</td>\n",
       "      <td>10.018088</td>\n",
       "      <td>28.144043</td>\n",
       "    </tr>\n",
       "    <tr>\n",
       "      <th>...</th>\n",
       "      <td>...</td>\n",
       "      <td>...</td>\n",
       "      <td>...</td>\n",
       "      <td>...</td>\n",
       "      <td>...</td>\n",
       "    </tr>\n",
       "    <tr>\n",
       "      <th>4974</th>\n",
       "      <td>76.474670</td>\n",
       "      <td>101.003090</td>\n",
       "      <td>-0.284334</td>\n",
       "      <td>9.963284</td>\n",
       "      <td>26.190490</td>\n",
       "    </tr>\n",
       "    <tr>\n",
       "      <th>4975</th>\n",
       "      <td>76.304344</td>\n",
       "      <td>101.060036</td>\n",
       "      <td>-0.281613</td>\n",
       "      <td>9.960735</td>\n",
       "      <td>26.205017</td>\n",
       "    </tr>\n",
       "    <tr>\n",
       "      <th>4976</th>\n",
       "      <td>76.132810</td>\n",
       "      <td>100.933650</td>\n",
       "      <td>-0.278773</td>\n",
       "      <td>9.958983</td>\n",
       "      <td>26.215302</td>\n",
       "    </tr>\n",
       "    <tr>\n",
       "      <th>4977</th>\n",
       "      <td>76.036200</td>\n",
       "      <td>100.961590</td>\n",
       "      <td>-0.275675</td>\n",
       "      <td>9.962255</td>\n",
       "      <td>26.193726</td>\n",
       "    </tr>\n",
       "    <tr>\n",
       "      <th>4978</th>\n",
       "      <td>75.910164</td>\n",
       "      <td>101.124610</td>\n",
       "      <td>-0.271592</td>\n",
       "      <td>9.962404</td>\n",
       "      <td>26.202423</td>\n",
       "    </tr>\n",
       "  </tbody>\n",
       "</table>\n",
       "<p>4979 rows × 5 columns</p>\n",
       "</div>"
      ],
      "text/plain": [
       "           COND          DO       ORP         PH         WT\n",
       "0      1.620359   97.282104  0.137211  10.061290  28.213074\n",
       "1      1.586915   97.476720  0.135318  10.035237  28.137848\n",
       "2      1.558073   97.546370  0.134258  10.022614  28.149506\n",
       "3      1.536727   97.521300  0.133044  10.019047  28.144989\n",
       "4      1.510011   97.643640  0.132248  10.018088  28.144043\n",
       "...         ...         ...       ...        ...        ...\n",
       "4974  76.474670  101.003090 -0.284334   9.963284  26.190490\n",
       "4975  76.304344  101.060036 -0.281613   9.960735  26.205017\n",
       "4976  76.132810  100.933650 -0.278773   9.958983  26.215302\n",
       "4977  76.036200  100.961590 -0.275675   9.962255  26.193726\n",
       "4978  75.910164  101.124610 -0.271592   9.962404  26.202423\n",
       "\n",
       "[4979 rows x 5 columns]"
      ]
     },
     "execution_count": 6,
     "metadata": {},
     "output_type": "execute_result"
    }
   ],
   "source": [
    "X = df[['COND','DO','ORP','PH','WT']]\n",
    "X"
   ]
  },
  {
   "cell_type": "code",
   "execution_count": 7,
   "metadata": {},
   "outputs": [],
   "source": [
    "#ph pdf\n",
    "ph=X['PH']\n",
    "mu, std = norm.fit(ph)"
   ]
  },
  {
   "cell_type": "code",
   "execution_count": 8,
   "metadata": {},
   "outputs": [
    {
     "data": {
      "image/png": "[encoded data removed]",
      "text/plain": [
       "<Figure size 432x288 with 1 Axes>"
      ]
     },
     "metadata": {
      "needs_background": "light"
     },
     "output_type": "display_data"
    }
   ],
   "source": [
    "plt.hist(ph, bins=25, density=True, alpha=0.6, color='g')\n",
    "\n",
    "# Plot the PDF.\n",
    "xmin, xmax = plt.xlim()\n",
    "x = np.linspace(xmin, xmax, 100)\n",
    "p = norm.pdf(x, mu, std)\n",
    "plt.plot(x, p, 'k', linewidth=2)\n",
    "title = \"Fit results: mu = %.2f,  std = %.2f\" % (mu, std)\n",
    "plt.title(title)\n",
    "\n",
    "plt.show()"
   ]
  },
  {
   "cell_type": "code",
   "execution_count": 9,
   "metadata": {},
   "outputs": [
    {
     "data": {
      "text/plain": [
       "[<matplotlib.lines.Line2D at 0x1cabeef8>]"
      ]
     },
     "execution_count": 9,
     "metadata": {},
     "output_type": "execute_result"
    },
    {
     "data": {
      "image/png": "[encoded data removed]",
      "text/plain": [
       "<Figure size 432x288 with 1 Axes>"
      ]
     },
     "metadata": {
      "needs_background": "light"
     },
     "output_type": "display_data"
    }
   ],
   "source": [
    "plt.plot(X['DO'])"
   ]
  },
  {
   "cell_type": "code",
   "execution_count": 10,
   "metadata": {},
   "outputs": [
    {
     "data": {
      "text/plain": [
       "array([[0.18521202],\n",
       "       [0.18572232],\n",
       "       [0.18553478],\n",
       "       ...,\n",
       "       [0.04964754],\n",
       "       [0.04860529],\n",
       "       [0.04280131]])"
      ]
     },
     "execution_count": 10,
     "metadata": {},
     "output_type": "execute_result"
    }
   ],
   "source": [
    "#do\n",
    "do = X['DO']\n",
    "#do = do.reset_index(drop=True)\n",
    "do_pdf_1 = np.zeros([4979,1])\n",
    "do=np.asarray(do)\n",
    "do=np.reshape(do,(4979,1))\n",
    "gmm = mixture.GaussianMixture(n_components=1, covariance_type='full',max_iter=10000,tol=0.00001)\n",
    "gmm.fit(do)\n",
    "mu = gmm.means_\n",
    "variance = gmm.covariances_\n",
    "sigma = np.sqrt(variance)\n",
    "for i in range(0, 4979):\n",
    "    x = 1/(np.sqrt(2*np.pi)*sigma)*np.exp(-np.power((do[i] - mu)/sigma, 2)/2)\n",
    "    do_pdf_1[i] = x\n",
    "do_pdf_1"
   ]
  },
  {
   "cell_type": "code",
   "execution_count": 11,
   "metadata": {},
   "outputs": [
    {
     "data": {
      "text/plain": [
       "[<matplotlib.lines.Line2D at 0x1cad3f28>]"
      ]
     },
     "execution_count": 11,
     "metadata": {},
     "output_type": "execute_result"
    },
    {
     "data": {
      "image/png": "[encoded data removed]",
      "text/plain": [
       "<Figure size 432x288 with 1 Axes>"
      ]
     },
     "metadata": {
      "needs_background": "light"
     },
     "output_type": "display_data"
    }
   ],
   "source": [
    "plt.plot(do_pdf_1)"
   ]
  },
  {
   "cell_type": "code",
   "execution_count": 43,
   "metadata": {},
   "outputs": [
    {
     "data": {
      "text/html": [
       "<div>\n",
       "<style scoped>\n",
       "    .dataframe tbody tr th:only-of-type {\n",
       "        vertical-align: middle;\n",
       "    }\n",
       "\n",
       "    .dataframe tbody tr th {\n",
       "        vertical-align: top;\n",
       "    }\n",
       "\n",
       "    .dataframe thead th {\n",
       "        text-align: right;\n",
       "    }\n",
       "</style>\n",
       "<table border=\"1\" class=\"dataframe\">\n",
       "  <thead>\n",
       "    <tr style=\"text-align: right;\">\n",
       "      <th></th>\n",
       "      <th>COND</th>\n",
       "      <th>DO</th>\n",
       "      <th>ORP</th>\n",
       "      <th>PH</th>\n",
       "      <th>WT</th>\n",
       "    </tr>\n",
       "  </thead>\n",
       "  <tbody>\n",
       "    <tr>\n",
       "      <th>count</th>\n",
       "      <td>4979.000000</td>\n",
       "      <td>4979.000000</td>\n",
       "      <td>4979.000000</td>\n",
       "      <td>4979.000000</td>\n",
       "      <td>4979.000000</td>\n",
       "    </tr>\n",
       "    <tr>\n",
       "      <th>mean</th>\n",
       "      <td>5.438225</td>\n",
       "      <td>97.444631</td>\n",
       "      <td>0.038414</td>\n",
       "      <td>9.907353</td>\n",
       "      <td>27.256468</td>\n",
       "    </tr>\n",
       "    <tr>\n",
       "      <th>std</th>\n",
       "      <td>15.872706</td>\n",
       "      <td>2.148034</td>\n",
       "      <td>0.147417</td>\n",
       "      <td>0.041337</td>\n",
       "      <td>0.723825</td>\n",
       "    </tr>\n",
       "    <tr>\n",
       "      <th>min</th>\n",
       "      <td>1.027458</td>\n",
       "      <td>91.319470</td>\n",
       "      <td>-0.321911</td>\n",
       "      <td>9.786758</td>\n",
       "      <td>25.761750</td>\n",
       "    </tr>\n",
       "    <tr>\n",
       "      <th>25%</th>\n",
       "      <td>1.049468</td>\n",
       "      <td>96.833060</td>\n",
       "      <td>-0.034718</td>\n",
       "      <td>9.879156</td>\n",
       "      <td>26.759094</td>\n",
       "    </tr>\n",
       "    <tr>\n",
       "      <th>50%</th>\n",
       "      <td>1.051255</td>\n",
       "      <td>97.891520</td>\n",
       "      <td>0.090710</td>\n",
       "      <td>9.898420</td>\n",
       "      <td>27.168182</td>\n",
       "    </tr>\n",
       "    <tr>\n",
       "      <th>75%</th>\n",
       "      <td>1.057324</td>\n",
       "      <td>98.699337</td>\n",
       "      <td>0.160530</td>\n",
       "      <td>9.927725</td>\n",
       "      <td>27.706330</td>\n",
       "    </tr>\n",
       "    <tr>\n",
       "      <th>max</th>\n",
       "      <td>139.701980</td>\n",
       "      <td>101.416990</td>\n",
       "      <td>0.212436</td>\n",
       "      <td>10.061290</td>\n",
       "      <td>29.131622</td>\n",
       "    </tr>\n",
       "  </tbody>\n",
       "</table>\n",
       "</div>"
      ],
      "text/plain": [
       "              COND           DO          ORP           PH           WT\n",
       "count  4979.000000  4979.000000  4979.000000  4979.000000  4979.000000\n",
       "mean      5.438225    97.444631     0.038414     9.907353    27.256468\n",
       "std      15.872706     2.148034     0.147417     0.041337     0.723825\n",
       "min       1.027458    91.319470    -0.321911     9.786758    25.761750\n",
       "25%       1.049468    96.833060    -0.034718     9.879156    26.759094\n",
       "50%       1.051255    97.891520     0.090710     9.898420    27.168182\n",
       "75%       1.057324    98.699337     0.160530     9.927725    27.706330\n",
       "max     139.701980   101.416990     0.212436    10.061290    29.131622"
      ]
     },
     "execution_count": 43,
     "metadata": {},
     "output_type": "execute_result"
    }
   ],
   "source": [
    "X.describe()"
   ]
  },
  {
   "cell_type": "code",
   "execution_count": 51,
   "metadata": {},
   "outputs": [],
   "source": [
    "ip=[]\n",
    "ip=X['DO'].values\n",
    "#ip=np.unique(X['DO'].values)"
   ]
  },
  {
   "cell_type": "code",
   "execution_count": 52,
   "metadata": {},
   "outputs": [
    {
     "data": {
      "text/plain": [
       "(4979,)"
      ]
     },
     "execution_count": 52,
     "metadata": {},
     "output_type": "execute_result"
    }
   ],
   "source": [
    "ip.shape"
   ]
  },
  {
   "cell_type": "code",
   "execution_count": 54,
   "metadata": {},
   "outputs": [],
   "source": [
    "ip=np.reshape(ip, (4979, 1))"
   ]
  },
  {
   "cell_type": "code",
   "execution_count": 55,
   "metadata": {},
   "outputs": [],
   "source": [
    "#xx=argrelextrema(ip, np.greater)"
   ]
  },
  {
   "cell_type": "code",
   "execution_count": 58,
   "metadata": {},
   "outputs": [
    {
     "data": {
      "text/plain": [
       "(array([   2,    4,    6, ..., 4970, 4972, 4975], dtype=int32),\n",
       " array([0, 0, 0, ..., 0, 0, 0], dtype=int32))"
      ]
     },
     "execution_count": 58,
     "metadata": {},
     "output_type": "execute_result"
    }
   ],
   "source": [
    "#xx"
   ]
  },
  {
   "cell_type": "code",
   "execution_count": 57,
   "metadata": {},
   "outputs": [
    {
     "data": {
      "text/plain": [
       "(2, 1611)"
      ]
     },
     "execution_count": 57,
     "metadata": {},
     "output_type": "execute_result"
    }
   ],
   "source": [
    "np.shape(xx)"
   ]
  },
  {
   "cell_type": "code",
   "execution_count": 73,
   "metadata": {},
   "outputs": [],
   "source": [
    "#sns.set(context='notebook', style='darkgrid', palette='deep', font='sans-serif', font_scale=1, color_codes=False, rc=None)"
   ]
  },
  {
   "cell_type": "code",
   "execution_count": 75,
   "metadata": {},
   "outputs": [
    {
     "data": {
      "text/plain": [
       "<matplotlib.lines.Line2D at 0x6343be0>"
      ]
     },
     "execution_count": 75,
     "metadata": {},
     "output_type": "execute_result"
    },
    {
     "data": {
      "image/png": "[encoded data removed]",
      "text/plain": [
       "<Figure size 432x288 with 1 Axes>"
      ]
     },
     "metadata": {},
     "output_type": "display_data"
    }
   ],
   "source": [
    "ax = sns.kdeplot(X['DO'])\n",
    "ax.grid(b=True, which='major')\n",
    "ax.grid(b=True, which='minor')\n",
    "ax.set(xlabel=\"Values\", ylabel = \"PDF\")\n",
    "plt.axvline(92.78, color='red',linestyle=\"--\")\n",
    "plt.axvline(93.83, color='red',linestyle=\"--\")\n",
    "plt.axvline(94.67, color='red',linestyle=\"--\")\n",
    "plt.axvline(95.3, color='red',linestyle=\"--\")\n",
    "plt.axvline(96.56, color='red',linestyle=\"--\")\n",
    "plt.axvline(97.61, color='red',linestyle=\"--\")\n",
    "plt.axvline(98.24, color='red',linestyle=\"--\")\n",
    "plt.axvline(99.29, color='red',linestyle=\"--\")\n",
    "plt.axvline(100.13, color='red',linestyle=\"--\")\n",
    "plt.axvline(100.55, color='red',linestyle=\"--\")"
   ]
  },
  {
   "cell_type": "code",
   "execution_count": 68,
   "metadata": {},
   "outputs": [
    {
     "data": {
      "text/plain": [
       "array([0.00560909, 0.00934848, 0.0215015 , 0.02804544, 0.03178483,\n",
       "       0.04954694, 0.08787571, 0.12807418, 0.08974541, 0.05515603,\n",
       "       0.03271968, 0.01682726, 0.0215015 , 0.01589242, 0.01963181,\n",
       "       0.03832877, 0.04954694, 0.0448727 , 0.03645907, 0.04767725,\n",
       "       0.03926362, 0.04393786, 0.05609088, 0.05796058, 0.06824391,\n",
       "       0.10189843, 0.10002874, 0.16172871, 0.22623322, 0.39637556,\n",
       "       0.40665889, 0.39824525, 0.21594989, 0.28793319, 0.2823241 ,\n",
       "       0.14957568, 0.10096359, 0.07478784, 0.10376813, 0.08694087,\n",
       "       0.08226663, 0.12713933, 0.12713933, 0.04767725, 0.06543936,\n",
       "       0.01402272, 0.0018697 ])"
      ]
     },
     "execution_count": 68,
     "metadata": {},
     "output_type": "execute_result"
    },
    {
     "data": {
      "image/png": "[encoded data removed]",
      "text/plain": [
       "<Figure size 432x288 with 1 Axes>"
      ]
     },
     "metadata": {},
     "output_type": "display_data"
    }
   ],
   "source": [
    "do=[]\n",
    "for h in sns.distplot(X['DO']).patches: \n",
    "    do.append(h.get_height())\n",
    "do=np.array(do)\n",
    "do"
   ]
  },
  {
   "cell_type": "code",
   "execution_count": 69,
   "metadata": {},
   "outputs": [
    {
     "data": {
      "text/plain": [
       "(47,)"
      ]
     },
     "execution_count": 69,
     "metadata": {},
     "output_type": "execute_result"
    }
   ],
   "source": [
    "do.shape"
   ]
  },
  {
   "cell_type": "code",
   "execution_count": 70,
   "metadata": {},
   "outputs": [
    {
     "data": {
      "text/plain": [
       "(array([ 7, 12, 16, 19, 25, 30, 33, 38, 42, 44], dtype=int32),)"
      ]
     },
     "execution_count": 70,
     "metadata": {},
     "output_type": "execute_result"
    }
   ],
   "source": [
    "#do minima \n",
    "argrelextrema(do, np.greater)\n",
    "\n",
    "# for local minima\n",
    "#argrelextrema(do, np.less)"
   ]
  },
  {
   "cell_type": "code",
   "execution_count": 76,
   "metadata": {},
   "outputs": [
    {
     "data": {
      "text/plain": [
       "<matplotlib.axes._subplots.AxesSubplot at 0x6356d78>"
      ]
     },
     "execution_count": 76,
     "metadata": {},
     "output_type": "execute_result"
    },
    {
     "data": {
      "image/png": "[encoded data removed]",
      "text/plain": [
       "<Figure size 432x288 with 1 Axes>"
      ]
     },
     "metadata": {},
     "output_type": "display_data"
    }
   ],
   "source": [
    "sns.kdeplot(X['COND'])"
   ]
  },
  {
   "cell_type": "code",
   "execution_count": 16,
   "metadata": {},
   "outputs": [
    {
     "data": {
      "text/plain": [
       "array([3.22900467e-01, 1.23106256e-03, 3.62077223e-04, 8.68985335e-04,\n",
       "       1.59313978e-03, 7.96569890e-04, 5.79323556e-04, 5.79323556e-04,\n",
       "       1.80314457e-02, 1.08623167e-03, 0.00000000e+00, 0.00000000e+00,\n",
       "       0.00000000e+00, 0.00000000e+00, 0.00000000e+00, 0.00000000e+00,\n",
       "       0.00000000e+00, 0.00000000e+00, 0.00000000e+00, 0.00000000e+00,\n",
       "       0.00000000e+00, 0.00000000e+00, 0.00000000e+00, 0.00000000e+00,\n",
       "       0.00000000e+00, 0.00000000e+00, 7.24154446e-05, 1.95521700e-03,\n",
       "       2.82420234e-03, 4.34492667e-03, 2.82420234e-03, 0.00000000e+00,\n",
       "       0.00000000e+00, 0.00000000e+00, 0.00000000e+00, 0.00000000e+00,\n",
       "       0.00000000e+00, 0.00000000e+00, 0.00000000e+00, 0.00000000e+00,\n",
       "       0.00000000e+00, 0.00000000e+00, 2.17246334e-04, 1.44830889e-04,\n",
       "       0.00000000e+00, 7.24154446e-05, 0.00000000e+00, 0.00000000e+00,\n",
       "       0.00000000e+00, 7.24154446e-05])"
      ]
     },
     "execution_count": 16,
     "metadata": {},
     "output_type": "execute_result"
    },
    {
     "data": {
      "image/png": "[encoded data removed]",
      "text/plain": [
       "<Figure size 432x288 with 1 Axes>"
      ]
     },
     "metadata": {
      "needs_background": "light"
     },
     "output_type": "display_data"
    }
   ],
   "source": [
    "#COND pdf\n",
    "cond=[]\n",
    "for h in sns.distplot(X['COND']).patches: \n",
    "    cond.append(h.get_height())\n",
    "cond=np.array(cond)\n",
    "cond"
   ]
  },
  {
   "cell_type": "code",
   "execution_count": 77,
   "metadata": {},
   "outputs": [
    {
     "data": {
      "text/plain": [
       "(50,)"
      ]
     },
     "execution_count": 77,
     "metadata": {},
     "output_type": "execute_result"
    }
   ],
   "source": [
    "cond.shape"
   ]
  },
  {
   "cell_type": "code",
   "execution_count": 83,
   "metadata": {},
   "outputs": [],
   "source": [
    "cond=np.reshape(cond,(50,1))"
   ]
  },
  {
   "cell_type": "code",
   "execution_count": 86,
   "metadata": {},
   "outputs": [],
   "source": [
    "dff = pd.DataFrame(cond,index=cond[:,0])"
   ]
  },
  {
   "cell_type": "code",
   "execution_count": 87,
   "metadata": {},
   "outputs": [],
   "source": [
    "dff.to_csv('COND1.csv')"
   ]
  },
  {
   "cell_type": "code",
   "execution_count": 81,
   "metadata": {},
   "outputs": [
    {
     "data": {
      "text/plain": [
       "(array([ 4,  8, 29, 42, 45], dtype=int32),)"
      ]
     },
     "execution_count": 81,
     "metadata": {},
     "output_type": "execute_result"
    }
   ],
   "source": [
    "#do minima \n",
    "argrelextrema(cond, np.greater)\n",
    "\n",
    "# for local minima\n",
    "#argrelextrema(cond, np.less)"
   ]
  },
  {
   "cell_type": "code",
   "execution_count": 34,
   "metadata": {},
   "outputs": [
    {
     "data": {
      "text/plain": [
       "array([ 0.03584767,  0.        ,  0.        ,  0.        ,  0.        ,\n",
       "        0.        ,  0.        ,  0.        ,  1.07543022,  4.19417784,\n",
       "        4.08663482,  3.40552902,  3.90739645,  6.3091906 ,  8.13742197,\n",
       "        8.89022312, 10.32413007, 14.33906955, 16.05975789,  9.24869986,\n",
       "        9.24869986,  7.20538245,  8.31666034, 10.07319636,  7.88648825,\n",
       "        7.42046849,  3.22629065,  1.57729765,  1.07543022,  1.29051626,\n",
       "        2.25840345,  4.6601976 ,  1.86407904,  4.94697899,  4.05078715,\n",
       "        4.01493947,  4.19417784,  2.90366158,  1.68484067,  0.17923837,\n",
       "        0.1433907 ,  0.1433907 ,  0.03584767,  0.        ,  0.03584767,\n",
       "        0.        ,  0.        ,  0.        ,  0.03584767])"
      ]
     },
     "execution_count": 34,
     "metadata": {},
     "output_type": "execute_result"
    },
    {
     "data": {
      "image/png": "[encoded data removed]",
      "text/plain": [
       "<Figure size 432x288 with 1 Axes>"
      ]
     },
     "metadata": {
      "needs_background": "light"
     },
     "output_type": "display_data"
    }
   ],
   "source": [
    "ph=[]\n",
    "for h in sns.distplot(X['PH']).patches: \n",
    "    ph.append(h.get_height())\n",
    "ph=np.array(ph)\n",
    "ph"
   ]
  },
  {
   "cell_type": "code",
   "execution_count": 38,
   "metadata": {},
   "outputs": [
    {
     "data": {
      "text/plain": [
       "(array([11, 21, 28, 32, 35, 43], dtype=int32),)"
      ]
     },
     "execution_count": 38,
     "metadata": {},
     "output_type": "execute_result"
    }
   ],
   "source": [
    "#do minima \n",
    "argrelextrema(ph, np.greater)\n",
    "\n",
    "# for local minima\n",
    "argrelextrema(ph, np.less)"
   ]
  },
  {
   "cell_type": "code",
   "execution_count": 39,
   "metadata": {},
   "outputs": [
    {
     "data": {
      "text/plain": [
       "array([0.08129406, 0.14411221, 0.11270314, 0.1219411 , 0.20877794,\n",
       "       0.38245162, 0.19214961, 0.23094905, 0.65774289, 1.01987099,\n",
       "       0.37136607, 0.55612531, 0.60046752, 0.6060103 , 0.60970549,\n",
       "       0.52656383, 0.26051053, 0.24388219, 0.33626181, 0.2180159 ,\n",
       "       0.22910146, 0.22355868, 0.18475924, 0.22910146, 0.21062553,\n",
       "       0.10900795, 0.11639832, 0.0960748 , 0.10716036, 0.11085554,\n",
       "       0.10161758])"
      ]
     },
     "execution_count": 39,
     "metadata": {},
     "output_type": "execute_result"
    },
    {
     "data": {
      "image/png": "[encoded data removed]",
      "text/plain": [
       "<Figure size 432x288 with 1 Axes>"
      ]
     },
     "metadata": {
      "needs_background": "light"
     },
     "output_type": "display_data"
    }
   ],
   "source": [
    "wt=[]\n",
    "for h in sns.distplot(X['WT']).patches: \n",
    "    wt.append(h.get_height())\n",
    "wt=np.array(wt)\n",
    "wt"
   ]
  },
  {
   "cell_type": "code",
   "execution_count": 40,
   "metadata": {},
   "outputs": [
    {
     "data": {
      "text/plain": [
       "(array([ 2,  6, 10, 17, 19, 22, 25, 27], dtype=int32),)"
      ]
     },
     "execution_count": 40,
     "metadata": {},
     "output_type": "execute_result"
    }
   ],
   "source": [
    "#WT minima \n",
    "argrelextrema(wt, np.greater)\n",
    "\n",
    "# for local minima\n",
    "argrelextrema(wt, np.less)"
   ]
  },
  {
   "cell_type": "code",
   "execution_count": 42,
   "metadata": {},
   "outputs": [
    {
     "data": {
      "text/plain": [
       "array([1.44332914, 0.09922888, 1.82220305, 0.99228879, 1.1366217 ,\n",
       "       0.81187264, 0.45104036, 0.23454099, 0.24356179, 0.16237453,\n",
       "       0.6314565 , 1.18172574, 2.32736825, 2.85959587, 2.03870242,\n",
       "       1.69591174, 1.28095462, 1.70493255, 2.71526295, 2.69722134,\n",
       "       4.0323008 , 5.10577685, 7.40608267, 1.84024466])"
      ]
     },
     "execution_count": 42,
     "metadata": {},
     "output_type": "execute_result"
    },
    {
     "data": {
      "image/png": "[encoded data removed]",
      "text/plain": [
       "<Figure size 432x288 with 1 Axes>"
      ]
     },
     "metadata": {
      "needs_background": "light"
     },
     "output_type": "display_data"
    }
   ],
   "source": [
    "orp=[]\n",
    "for h in sns.distplot(X['ORP']).patches: \n",
    "    orp.append(h.get_height())\n",
    "orp=np.array(orp)\n",
    "orp"
   ]
  },
  {
   "cell_type": "code",
   "execution_count": 43,
   "metadata": {},
   "outputs": [
    {
     "data": {
      "text/plain": [
       "(array([ 1,  3,  7,  9, 16, 19], dtype=int32),)"
      ]
     },
     "execution_count": 43,
     "metadata": {},
     "output_type": "execute_result"
    }
   ],
   "source": [
    "#WT minima \n",
    "argrelextrema(orp, np.greater)\n",
    "\n",
    "# for local minima\n",
    "argrelextrema(orp, np.less)"
   ]
  },
  {
   "cell_type": "code",
   "execution_count": 44,
   "metadata": {},
   "outputs": [
    {
     "data": {
      "text/plain": [
       "[<matplotlib.lines.Line2D at 0x1a6e6f10>]"
      ]
     },
     "execution_count": 44,
     "metadata": {},
     "output_type": "execute_result"
    },
    {
     "data": {
      "image/png": "[encoded data removed]",
      "text/plain": [
       "<Figure size 432x288 with 1 Axes>"
      ]
     },
     "metadata": {
      "needs_background": "light"
     },
     "output_type": "display_data"
    }
   ],
   "source": [
    "plt.plot(orp)"
   ]
  },
  {
   "cell_type": "code",
   "execution_count": null,
   "metadata": {},
   "outputs": [],
   "source": []
  }
 ],
 "metadata": {
  "kernelspec": {
   "display_name": "Python 3",
   "language": "python",
   "name": "python3"
  },
  "language_info": {
   "codemirror_mode": {
    "name": "ipython",
    "version": 3
   },
   "file_extension": ".py",
   "mimetype": "text/x-python",
   "name": "python",
   "nbconvert_exporter": "python",
   "pygments_lexer": "ipython3",
   "version": "3.8.2"
  }
 },
 "nbformat": 4,
 "nbformat_minor": 4
}
